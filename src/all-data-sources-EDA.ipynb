{
 "cells": [
  {
   "cell_type": "markdown",
   "metadata": {},
   "source": [
    "# Exploratory Data Analysis"
   ]
  },
  {
   "cell_type": "code",
   "execution_count": 1,
   "metadata": {
    "collapsed": true
   },
   "outputs": [],
   "source": [
    "import pandas as pd\n",
    "import numpy as np\n",
    "import seaborn as sns\n",
    "import matplotlib.pyplot as plt\n",
    "import matplotlib as mpl\n",
    "from mpl_toolkits.axes_grid.anchored_artists import AnchoredText\n",
    "import re\n",
    "from xml.etree import ElementTree\n",
    "import folium\n",
    "import progressbar\n",
    "from anonymizingdata import AnonymizingData\n",
    "%matplotlib inline"
   ]
  },
  {
   "cell_type": "code",
   "execution_count": 2,
   "metadata": {
    "collapsed": true
   },
   "outputs": [],
   "source": [
    "# Setting up nice graph formatting\n",
    "mpl.rcParams.update({\n",
    "    'font.size'           : 20.0,\n",
    "    'axes.titlesize'      : 'large',\n",
    "    'axes.labelsize'      : 'medium',\n",
    "    'xtick.labelsize'     : 'small',\n",
    "    'ytick.labelsize'     : 'small',\n",
    "    'legend.fontsize'     : 'small',\n",
    "})"
   ]
  },
  {
   "cell_type": "code",
   "execution_count": 3,
   "metadata": {
    "collapsed": true
   },
   "outputs": [],
   "source": [
    "# Force pandas & numpy to display all data\n",
    "pd.set_option('display.max_columns', None)\n",
    "pd.set_option('display.max_rows', None)\n",
    "pd.set_option('max_info_columns', 100000)\n",
    "pd.set_option('max_seq_items', None)\n",
    "np.set_printoptions(threshold=np.nan)"
   ]
  },
  {
   "cell_type": "code",
   "execution_count": 4,
   "metadata": {
    "collapsed": true
   },
   "outputs": [],
   "source": [
    "# Importing hidden anonymous functions\n",
    "hidden = AnonymizingData()"
   ]
  },
  {
   "cell_type": "markdown",
   "metadata": {},
   "source": [
    "## Meta Data Cleaning"
   ]
  },
  {
   "cell_type": "code",
   "execution_count": null,
   "metadata": {
    "scrolled": false
   },
   "outputs": [],
   "source": [
    "meta_df = pd.read_csv('../data/EDD/meta-data.csv', error_bad_lines=False)"
   ]
  },
  {
   "cell_type": "code",
   "execution_count": 6,
   "metadata": {
    "collapsed": true
   },
   "outputs": [],
   "source": [
    "# Cutting rows that are random code\n",
    "meta_df = meta_df[[type(x)==int or x.isdigit() for x in meta_df['meta_id']]]"
   ]
  },
  {
   "cell_type": "code",
   "execution_count": 7,
   "metadata": {
    "collapsed": true
   },
   "outputs": [],
   "source": [
    "# Creating list of payments that are really just renewals\n",
    "renewals = list(meta_df[meta_df['meta_key'] == '_edd_sl_is_renewal']['post_id'])"
   ]
  },
  {
   "cell_type": "code",
   "execution_count": 8,
   "metadata": {
    "collapsed": true
   },
   "outputs": [],
   "source": [
    "# Creating df of active/inactive statuses\n",
    "# Come back to this problem\n",
    "ids = list(meta_df[meta_df['meta_key'] == '_edd_sl_status']['post_id'])\n",
    "statuses = list(meta_df[meta_df['meta_key'] == '_edd_sl_status']['meta_value'])\n",
    "statuses = zip(ids, statuses)\n",
    "status_df = pd.DataFrame(statuses, columns=['post_id', 'license_status'])"
   ]
  },
  {
   "cell_type": "markdown",
   "metadata": {},
   "source": [
    "## Customer Revenue Data Cleaning"
   ]
  },
  {
   "cell_type": "code",
   "execution_count": 9,
   "metadata": {
    "collapsed": true
   },
   "outputs": [],
   "source": [
    "revenue_df = pd.read_csv('../data/EDD/customer-revenue.csv')"
   ]
  },
  {
   "cell_type": "code",
   "execution_count": 10,
   "metadata": {
    "collapsed": true
   },
   "outputs": [],
   "source": [
    "# Renaming columns for datasource\n",
    "revenue_df.rename(columns=lambda x: ('revenue:' + x).strip().lower().replace(\" \", \"_\"), inplace=True)"
   ]
  },
  {
   "cell_type": "code",
   "execution_count": 11,
   "metadata": {
    "collapsed": true
   },
   "outputs": [],
   "source": [
    "# Parsing email to get domain\n",
    "lst = []\n",
    "for item in revenue_df['revenue:email']:\n",
    "    lst.append(item.partition('@')[2])\n",
    "revenue_df['revenue:domain'] = lst"
   ]
  },
  {
   "cell_type": "markdown",
   "metadata": {
    "collapsed": true
   },
   "source": [
    "## Transaction Data Cleaning"
   ]
  },
  {
   "cell_type": "code",
   "execution_count": 12,
   "metadata": {
    "collapsed": true
   },
   "outputs": [],
   "source": [
    "EDD_df = pd.read_pickle('../data/google-analytics/all_transactions_google_EDD')"
   ]
  },
  {
   "cell_type": "code",
   "execution_count": 13,
   "metadata": {
    "collapsed": true
   },
   "outputs": [],
   "source": [
    "# Keeping completed statuses only\n",
    "EDD_df = EDD_df[EDD_df['EDD:Status'] == 'complete']"
   ]
  },
  {
   "cell_type": "code",
   "execution_count": 14,
   "metadata": {
    "collapsed": true
   },
   "outputs": [],
   "source": [
    "# Keeping payments that are not renewals only\n",
    "EDD_df['edd:renewal_flag'] = [x in renewals for x in EDD_df['EDD:Payment ID']]\n",
    "EDD_df = EDD_df[EDD_df['edd:renewal_flag'] == False]\n",
    "EDD_df.drop('edd:renewal_flag', inplace=True, axis=1)"
   ]
  },
  {
   "cell_type": "code",
   "execution_count": 15,
   "metadata": {
    "collapsed": true
   },
   "outputs": [],
   "source": [
    "# Dropping test payment rows\n",
    "EDD_df = EDD_df[EDD_df['EDD:Payment Method'] != 'Test Payment']"
   ]
  },
  {
   "cell_type": "code",
   "execution_count": 16,
   "metadata": {
    "collapsed": true
   },
   "outputs": [],
   "source": [
    "# Create licenses variable\n",
    "licenses = []\n",
    "for item in EDD_df['EDD:Products (Verbose)']:\n",
    "    try:\n",
    "        # Searching for name of license within column value\n",
    "        licenses.append(set(re.findall(\"(\\S+)\\s*License\", item)))\n",
    "    except:\n",
    "        licenses.append(set())\n",
    "        continue\n",
    "EDD_df['EDD:licenses'] = licenses\n",
    "\n",
    "# Hidden anonymizing function for different licenses\n",
    "EDD_df = hidden.licenses(EDD_df)"
   ]
  },
  {
   "cell_type": "code",
   "execution_count": 17,
   "metadata": {
    "collapsed": true
   },
   "outputs": [],
   "source": [
    "# Change discount codes to boolean\n",
    "EDD_df['EDD:used_code'] = EDD_df['EDD:Discount Code'] != 'none'"
   ]
  },
  {
   "cell_type": "code",
   "execution_count": 18,
   "metadata": {
    "collapsed": true,
    "scrolled": true
   },
   "outputs": [],
   "source": [
    "# Grouping by customer (using email) & summing amounts spent\n",
    "total_df = pd.DataFrame(EDD_df.groupby('EDD:Email').sum()['EDD:Amount ($)'])\n",
    "# Renaming indices to match\n",
    "total_df.rename(index = str, columns = {'EDD:Amount ($)': 'EDD:total_spent'}, inplace=True)\n",
    "# Resetting email variable after transformation\n",
    "total_df['EDD:Email'] = total_df.index\n",
    "# Merging the temp df in with the original df\n",
    "EDD_df = pd.merge(EDD_df, total_df, how='left', on='EDD:Email')\n",
    "# Dropping the amount per transaction and only having the total spent per customer variable\n",
    "EDD_df.drop('EDD:Amount ($)', inplace=True, axis=1)"
   ]
  },
  {
   "cell_type": "code",
   "execution_count": 19,
   "metadata": {
    "collapsed": true
   },
   "outputs": [],
   "source": [
    "# Making dummy variables \n",
    "temp_df = EDD_df[['EDD:Email', 'EDD:licenses', 'EDD:Payment Method']]\n",
    "# Making dummies for licenses and payment methods\n",
    "temp_df = pd.get_dummies(temp_df, dummy_na=True, \\\n",
    "                             columns=['EDD:licenses', 'EDD:Payment Method'])\n",
    "# Consolidating back to one row per customer email\n",
    "temp_df = temp_df.groupby('EDD:Email').max()\n",
    "# Resetting email variable\n",
    "temp_df['EDD:Email'] = temp_df.index\n",
    "# Merging data back in\n",
    "EDD_df = pd.merge(EDD_df, temp_df, how='left', on='EDD:Email')\n",
    "# Dropping original columns\n",
    "EDD_df.drop(['EDD:licenses', 'EDD:Payment Method'], inplace=True, axis=1)"
   ]
  },
  {
   "cell_type": "code",
   "execution_count": 20,
   "metadata": {
    "collapsed": true
   },
   "outputs": [],
   "source": [
    "# Renaming columns for easier use\n",
    "EDD_df.rename(columns=lambda x: x.strip().lower().replace(\" \", \"_\"), inplace=True)"
   ]
  },
  {
   "cell_type": "code",
   "execution_count": 21,
   "metadata": {
    "collapsed": true
   },
   "outputs": [],
   "source": [
    "# Figure out a better way of doing this later?\n",
    "EDD_df = EDD_df.groupby('edd:email').first().reset_index()"
   ]
  },
  {
   "cell_type": "markdown",
   "metadata": {
    "collapsed": true
   },
   "source": [
    "## Intercom Data Cleaning"
   ]
  },
  {
   "cell_type": "code",
   "execution_count": 22,
   "metadata": {
    "collapsed": true
   },
   "outputs": [],
   "source": [
    "intercom_df = pd.read_csv('../data/intercom/intercom-9-1-17.csv')"
   ]
  },
  {
   "cell_type": "code",
   "execution_count": 23,
   "metadata": {
    "collapsed": true
   },
   "outputs": [],
   "source": [
    "# Removing duplicate records\n",
    "intercom_df.sort_values('First Seen (MDT)')\n",
    "intercom_df = intercom_df.groupby('Email').first().reset_index()"
   ]
  },
  {
   "cell_type": "code",
   "execution_count": 24,
   "metadata": {
    "collapsed": true
   },
   "outputs": [],
   "source": [
    "# Renaming columns for datasource\n",
    "intercom_df.rename(columns=lambda x: ('intercom:' + x).strip().lower().replace(\" \", \"_\"), inplace=True)"
   ]
  },
  {
   "cell_type": "markdown",
   "metadata": {
    "collapsed": true
   },
   "source": [
    "## Drip Data Cleaning"
   ]
  },
  {
   "cell_type": "code",
   "execution_count": 25,
   "metadata": {
    "collapsed": true
   },
   "outputs": [],
   "source": [
    "drip_df = pd.read_csv('../data/drip/drip-subscribers.csv')"
   ]
  },
  {
   "cell_type": "code",
   "execution_count": 26,
   "metadata": {
    "collapsed": true
   },
   "outputs": [],
   "source": [
    "# Renaming columns\n",
    "drip_df.rename(columns=lambda x: ('drip:' + x).strip().lower().replace(\" \", \"_\"), inplace=True)"
   ]
  },
  {
   "cell_type": "markdown",
   "metadata": {
    "collapsed": true
   },
   "source": [
    "## HubSpot Customer Data Cleaning"
   ]
  },
  {
   "cell_type": "code",
   "execution_count": 27,
   "metadata": {
    "collapsed": true
   },
   "outputs": [],
   "source": [
    "hub_cust_df = pd.read_csv('../data/hubspot/hubspot-crm-view-contacts-all-contacts-2017-09-02.csv')"
   ]
  },
  {
   "cell_type": "code",
   "execution_count": 28,
   "metadata": {
    "collapsed": true
   },
   "outputs": [],
   "source": [
    "# Renaming columns\n",
    "hub_cust_df.rename(columns=lambda x: ('hubcust:' + x).strip().lower().replace(\" \", \"_\"), inplace=True)"
   ]
  },
  {
   "cell_type": "markdown",
   "metadata": {},
   "source": [
    "## HubSpot Company Data Cleaning"
   ]
  },
  {
   "cell_type": "code",
   "execution_count": 29,
   "metadata": {
    "collapsed": true
   },
   "outputs": [],
   "source": [
    "hub_comp_df = pd.read_csv('../data/hubspot/hubspot-crm-view-companies-all-companies-2017-09-02.csv')"
   ]
  },
  {
   "cell_type": "code",
   "execution_count": 30,
   "metadata": {
    "collapsed": true
   },
   "outputs": [],
   "source": [
    "# Renaming columns\n",
    "hub_comp_df.rename(columns=lambda x: ('hubcomp:' + x).strip().lower().replace(\" \", \"_\"), inplace=True)"
   ]
  },
  {
   "cell_type": "markdown",
   "metadata": {
    "collapsed": true
   },
   "source": [
    "## Mechancial Turk Data Cleaning"
   ]
  },
  {
   "cell_type": "code",
   "execution_count": 31,
   "metadata": {
    "collapsed": true
   },
   "outputs": [],
   "source": [
    "turk_df = pd.read_csv('../data/mechanical-turk/MechanicalTurkData.csv')"
   ]
  },
  {
   "cell_type": "code",
   "execution_count": 32,
   "metadata": {
    "collapsed": true
   },
   "outputs": [],
   "source": [
    "# Filtering only for those respondents who actually got the page to work\n",
    "turk_df = turk_df[turk_df['Answer.can_access'] == 'yes']\n",
    "turk_df = turk_df[turk_df['Answer.does_it_load'] == 'yes']"
   ]
  },
  {
   "cell_type": "code",
   "execution_count": 33,
   "metadata": {
    "collapsed": true
   },
   "outputs": [],
   "source": [
    "# Pulling out the only three variables that are useful\n",
    "turk_df = turk_df[['Input.website_url', 'Answer.industry', 'Answer.well-made']]"
   ]
  },
  {
   "cell_type": "code",
   "execution_count": 34,
   "metadata": {
    "collapsed": true
   },
   "outputs": [],
   "source": [
    "# Pulling the website domain out of the website URL for use in joining later\n",
    "lst = []\n",
    "for item in turk_df['Input.website_url']:\n",
    "    item = item.partition('//')[2]\n",
    "    item = item.partition('/')[0]\n",
    "    lst.append(item.replace('www.',''))\n",
    "turk_df['turk_domain'] = lst"
   ]
  },
  {
   "cell_type": "code",
   "execution_count": 35,
   "metadata": {
    "collapsed": true
   },
   "outputs": [],
   "source": [
    "# Making an average rating variable\n",
    "avg_df = pd.DataFrame(turk_df.groupby('Input.website_url').mean()['Answer.well-made'])\n",
    "avg_df['Input.website_url'] = avg_df.index\n",
    "turk_df = pd.merge(turk_df, avg_df, how='left', on='Input.website_url')\n",
    "turk_df.drop('Answer.well-made_x', inplace=True, axis=1)"
   ]
  },
  {
   "cell_type": "code",
   "execution_count": 36,
   "metadata": {
    "collapsed": true
   },
   "outputs": [],
   "source": [
    "# Making dummy variables for each industry\n",
    "turk_df = pd.get_dummies(turk_df, drop_first=True, dummy_na=True, columns=['Answer.industry'])"
   ]
  },
  {
   "cell_type": "code",
   "execution_count": 37,
   "metadata": {
    "collapsed": true
   },
   "outputs": [],
   "source": [
    "# Renaming columns\n",
    "turk_df.rename(columns=lambda x: ('turk:' + x).strip().lower().replace(\" \", \"_\"), inplace=True)"
   ]
  },
  {
   "cell_type": "markdown",
   "metadata": {},
   "source": [
    "## HelpScout Data Cleaning"
   ]
  },
  {
   "cell_type": "code",
   "execution_count": 38,
   "metadata": {
    "collapsed": true
   },
   "outputs": [],
   "source": [
    "help_scout_df = pd.read_pickle('../data/help-scout/helpscout_simplified')"
   ]
  },
  {
   "cell_type": "code",
   "execution_count": 39,
   "metadata": {
    "collapsed": true
   },
   "outputs": [],
   "source": [
    "# Renaming columns\n",
    "help_scout_df.rename(columns=lambda x: ('helpscout:' + x).strip().lower().replace(\" \", \"_\"), inplace=True)"
   ]
  },
  {
   "cell_type": "code",
   "execution_count": 40,
   "metadata": {
    "collapsed": true
   },
   "outputs": [],
   "source": [
    "# Taking emails out of list form\n",
    "lst = []\n",
    "for x in help_scout_df['helpscout:emails']:\n",
    "    try:\n",
    "        lst.append(x[0])\n",
    "    except:\n",
    "        lst.append(x)\n",
    "help_scout_df['helpscout:emails'] = lst\n",
    "# Fixing unicode problem\n",
    "help_scout_df['helpscout:emails'] = help_scout_df['helpscout:emails'].astype(str)"
   ]
  },
  {
   "cell_type": "markdown",
   "metadata": {},
   "source": [
    "## Joined Single Dataset Cleaning & EDA"
   ]
  },
  {
   "cell_type": "code",
   "execution_count": 76,
   "metadata": {},
   "outputs": [],
   "source": [
    "# Joining all datasets\n",
    "df = pd.merge(revenue_df, EDD_df, left_on='revenue:id', right_on='edd:customer_id', how='left')\n",
    "df = pd.merge(df, intercom_df, how='left', left_on='revenue:email', right_on='intercom:email')\n",
    "df = pd.merge(df, drip_df, how='left', left_on='revenue:email', right_on='drip:email')\n",
    "df = pd.merge(df, hub_cust_df, how='left', left_on='revenue:email', right_on='hubcust:email') # 41% null\n",
    "df = pd.merge(df, hub_comp_df, how='left', left_on='revenue:domain', right_on='hubcomp:company_domain_name') # 53% null\n",
    "df = pd.merge(df, turk_df, how='left', left_on='revenue:domain', right_on='turk:turk_domain') # 88% null\n",
    "df = pd.merge(df, help_scout_df, how='left', left_on='revenue:email', right_on='helpscout:emails') #21% null"
   ]
  },
  {
   "cell_type": "code",
   "execution_count": 77,
   "metadata": {
    "collapsed": true
   },
   "outputs": [],
   "source": [
    "# Consolidating any duplicate customer rows\n",
    "df = df.groupby('revenue:email').first().reset_index()"
   ]
  },
  {
   "cell_type": "code",
   "execution_count": 78,
   "metadata": {
    "collapsed": true
   },
   "outputs": [],
   "source": [
    "# Renaming column names for anonymity\n",
    "df = hidden.column_names(df)"
   ]
  },
  {
   "cell_type": "code",
   "execution_count": 79,
   "metadata": {},
   "outputs": [],
   "source": [
    "# Pulling out test rows\n",
    "tests = hidden.test_emails(df)"
   ]
  },
  {
   "cell_type": "code",
   "execution_count": 80,
   "metadata": {
    "collapsed": true
   },
   "outputs": [],
   "source": [
    "# Dropping all test rows from the df\n",
    "df['test_emails'] = [x in tests for x in df['revenue:email']]\n",
    "df = df[df['test_emails'] == False]\n",
    "df.drop('test_emails', inplace=True, axis=1)"
   ]
  },
  {
   "cell_type": "code",
   "execution_count": null,
   "metadata": {
    "collapsed": true,
    "scrolled": true
   },
   "outputs": [],
   "source": [
    "# Mapping customers\n",
    "locations = df[['ga:latitude', 'ga:longitude']]\n",
    "locationlist = locations.values.tolist()\n",
    "locationlist = [x for x in locationlist if x[0]==x[0] and x[0]!=0.0]\n",
    "cust_map = folium.Map()\n",
    "for point in range(0, len(locationlist)):\n",
    "    folium.Marker(locationlist[point]).add_to(cust_map)\n",
    "cust_map"
   ]
  },
  {
   "cell_type": "code",
   "execution_count": 160,
   "metadata": {
    "collapsed": true
   },
   "outputs": [],
   "source": [
    "# Splitting into train df and test df\n",
    "df = df.iloc[np.random.permutation(df.shape[0])]\n",
    "split_index = int(round((.3 * df.shape[0]), 0))\n",
    "test_df = df.iloc[:split_index].copy()\n",
    "train_df = df.iloc[split_index:].copy()"
   ]
  },
  {
   "cell_type": "code",
   "execution_count": 161,
   "metadata": {},
   "outputs": [
    {
     "data": {
      "text/plain": [
       "(3062, 689)"
      ]
     },
     "execution_count": 161,
     "metadata": {},
     "output_type": "execute_result"
    }
   ],
   "source": [
    "train_df.shape"
   ]
  },
  {
   "cell_type": "code",
   "execution_count": null,
   "metadata": {
    "collapsed": true
   },
   "outputs": [],
   "source": [
    "# Checking percentage of null values\n",
    "nulls = train_df.isnull().sum()/float(train_df.shape[0])\n",
    "\n",
    "# Breaking into x and y's for bar graph\n",
    "nulls = pd.DataFrame(nulls)\n",
    "categories = list(nulls.index)\n",
    "values = list(nulls[0])\n",
    "\n",
    "# Forming bar graph in seaborn\n",
    "fig = plt.figure(figsize=(15,100))\n",
    "ax = fig.add_subplot(111)\n",
    "ax.set_xlabel('Proportion of Null Values')\n",
    "ax.set_title('Proportion of Null Values by Feature')\n",
    "sns.barplot(y=categories, x=values, orient='h', ax=ax, palette='pastel')\n",
    "plt.savefig('../images/null_values.png', dpi=300)"
   ]
  },
  {
   "cell_type": "code",
   "execution_count": null,
   "metadata": {},
   "outputs": [],
   "source": [
    "# Checking for identifier columns to drop\n",
    "lst = []\n",
    "for x in train_df.columns:\n",
    "    if 'id' in x:\n",
    "        lst.append(x)\n",
    "    elif 'email' in x:\n",
    "        lst.append(x)\n",
    "    elif 'name' in x:\n",
    "        lst.append(x)\n",
    "lst"
   ]
  },
  {
   "cell_type": "code",
   "execution_count": 162,
   "metadata": {
    "collapsed": true
   },
   "outputs": [],
   "source": [
    "# Dropping all id and name variables as features\n",
    "train_df.drop(['edd:first_name',\n",
    " 'edd:last_name',\n",
    " 'unnamed:_0_x',\n",
    " 'unnamed:_0_y',\n",
    " 'intercom:first_name',\n",
    " 'intercom:last_name',\n",
    " 'intercom:name',\n",
    " 'intercom:anonymous_company_username',\n",
    " 'intercom:username',\n",
    " 'intercom:firstname',\n",
    " 'intercom:lastname',\n",
    " 'intercom:company_name',\n",
    " 'drip:first_name',\n",
    " 'drip:firstname',\n",
    " 'drip:firstname',\n",
    " 'drip:last_name',\n",
    " 'drip:lastname',\n",
    " 'drip:lastname',\n",
    " 'drip:name',\n",
    " 'drip:username',\n",
    " 'hubcust:first_name',\n",
    " 'hubcust:last_name',\n",
    " 'hubcust:last_email_name',\n",
    " 'hubcust:twitter_username',\n",
    " 'hubcust:company_name',\n",
    " 'hubcust:skype_username',\n",
    " 'hubcomp:company_domain_name',\n",
    " 'hubcomp:name',\n",
    " 'edd:payment_id',\n",
    " 'edd:customer_id',\n",
    " 'edd:transaction_id',\n",
    " 'ga:transactionid',\n",
    " 'intercom:user_id',\n",
    " 'intercom:stripe_id',\n",
    " 'intercom:affiliate_id',\n",
    " 'intercom:article_id',\n",
    " 'intercom:company_id',\n",
    " 'drip:id',\n",
    " 'drip:id.1',\n",
    " 'hubcust:contact_id',\n",
    " 'hubcomp:company_id',\n",
    " 'edd:payment_number',\n",
    " 'edd:address',\n",
    " 'edd:address_(line_2)',\n",
    " 'edd:products_(verbose)',\n",
    " 'edd:products_(raw)',\n",
    " 'edd:tax_($)',\n",
    " 'edd:purchase_key',\n",
    " 'edd:user',\n",
    " 'edd:ip_address',\n",
    " 'ga:screenname', 'intercom:email', 'drip:email', 'hubcust:email', 'helpscout:firstname_x',\n",
    "'helpscout:fullname_x', 'helpscout:lastname_x', 'helpscout:fullname_y', \n",
    "'helpscout:firstname_y', 'helpscout:lastname_y', 'revenue:id', 'revenue:user_id', 'revenue:email',\n",
    "'revenue:purchase_count', 'revenue:payment_ids', 'revenue:domain', 'helpscout:id',\n",
    " 'helpscout:emails'], inplace=True, axis=1)"
   ]
  },
  {
   "cell_type": "code",
   "execution_count": 163,
   "metadata": {},
   "outputs": [
    {
     "data": {
      "text/plain": [
       "['revenue:notes',\n",
       " 'ga:addestinationurl',\n",
       " 'ga:addisplayurl',\n",
       " 'ga:addistributionnetwork',\n",
       " 'ga:adformat',\n",
       " 'ga:adgroup',\n",
       " 'ga:adkeywordmatchtype',\n",
       " 'ga:admatchtype',\n",
       " 'ga:admatchedquery',\n",
       " 'ga:adplacementdomain',\n",
       " 'ga:adplacementurl',\n",
       " 'ga:adquerywordcount',\n",
       " 'ga:adtargetingoption',\n",
       " 'ga:adtargetingtype',\n",
       " 'ga:adwordsadgroupid',\n",
       " 'ga:adwordscampaignid',\n",
       " 'ga:adwordscreativeid',\n",
       " 'ga:adwordscriteriaid',\n",
       " 'ga:adwordscustomerid',\n",
       " 'ga:affiliation',\n",
       " 'ga:browser',\n",
       " 'ga:browsersize',\n",
       " 'ga:browserversion',\n",
       " 'ga:campaign',\n",
       " 'ga:channelgrouping_x',\n",
       " 'ga:checkoutoptions_x',\n",
       " 'ga:city',\n",
       " 'ga:cityid',\n",
       " 'ga:continent',\n",
       " 'ga:continentid',\n",
       " 'ga:country',\n",
       " 'ga:countryisocode',\n",
       " 'ga:datasource',\n",
       " 'ga:date_x',\n",
       " 'ga:datehour_x',\n",
       " 'ga:datehourminute_x',\n",
       " 'ga:day_x',\n",
       " 'ga:dayofweek_x',\n",
       " 'ga:dayofweekname_x',\n",
       " 'ga:dayssincelastsession',\n",
       " 'ga:daystotransaction',\n",
       " 'ga:devicecategory',\n",
       " 'ga:exitpagepath',\n",
       " 'ga:exitscreenname',\n",
       " 'ga:flashversion_x',\n",
       " 'ga:fullreferrer',\n",
       " 'ga:hostname',\n",
       " 'ga:hour_x',\n",
       " 'ga:isoweek_x',\n",
       " 'ga:isoyear_x',\n",
       " 'ga:isoyearisoweek_x',\n",
       " 'ga:javaenabled_x',\n",
       " 'ga:keyword',\n",
       " 'ga:landingpagepath',\n",
       " 'ga:landingscreenname',\n",
       " 'ga:language_x',\n",
       " 'ga:latitude',\n",
       " 'ga:longitude',\n",
       " 'ga:medium',\n",
       " 'ga:metro',\n",
       " 'ga:metroid',\n",
       " 'ga:minute_x',\n",
       " 'ga:mobiledevicebranding',\n",
       " 'ga:mobiledeviceinfo',\n",
       " 'ga:mobiledevicemarketingname',\n",
       " 'ga:mobiledevicemodel',\n",
       " 'ga:mobileinputselector',\n",
       " 'ga:month_x',\n",
       " 'ga:networkdomain',\n",
       " 'ga:networklocation',\n",
       " 'ga:nthday_x',\n",
       " 'ga:nthhour_x',\n",
       " 'ga:nthminute_x',\n",
       " 'ga:nthmonth_x',\n",
       " 'ga:nthweek_x',\n",
       " 'ga:operatingsystem',\n",
       " 'ga:operatingsystemversion',\n",
       " 'ga:ordercouponcode_x',\n",
       " 'ga:pagedepth',\n",
       " 'ga:previouspagepath',\n",
       " 'ga:referralpath',\n",
       " 'ga:region',\n",
       " 'ga:regionid',\n",
       " 'ga:regionisocode',\n",
       " 'ga:screencolors',\n",
       " 'ga:screendepth',\n",
       " 'ga:screenresolution',\n",
       " 'ga:searchused',\n",
       " 'ga:secondpagepath',\n",
       " 'ga:sessioncount',\n",
       " 'ga:sessiondurationbucket',\n",
       " 'ga:sessionstotransaction',\n",
       " 'ga:shoppingstage_x',\n",
       " 'ga:socialengagementtype_x',\n",
       " 'ga:socialnetwork',\n",
       " 'ga:source',\n",
       " 'ga:sourcemedium',\n",
       " 'ga:subcontinent',\n",
       " 'ga:subcontinentcode',\n",
       " 'ga:userbucket',\n",
       " 'ga:userdefinedvalue',\n",
       " 'ga:usertype',\n",
       " 'ga:week_x',\n",
       " 'ga:year_x',\n",
       " 'ga:yearmonth_x',\n",
       " 'ga:yearweek_x',\n",
       " 'ga:channelgrouping_y',\n",
       " 'ga:checkoutoptions_y',\n",
       " 'ga:date_y',\n",
       " 'ga:datehour_y',\n",
       " 'ga:datehourminute_y',\n",
       " 'ga:day_y',\n",
       " 'ga:dayofweek_y',\n",
       " 'ga:dayofweekname_y',\n",
       " 'ga:flashversion_y',\n",
       " 'ga:hour_y',\n",
       " 'ga:isoweek_y',\n",
       " 'ga:isoyear_y',\n",
       " 'ga:isoyearisoweek_y',\n",
       " 'ga:javaenabled_y',\n",
       " 'ga:language_y',\n",
       " 'ga:minute_y',\n",
       " 'ga:month_y',\n",
       " 'ga:nthday_y',\n",
       " 'ga:nthhour_y',\n",
       " 'ga:nthminute_y',\n",
       " 'ga:nthmonth_y',\n",
       " 'ga:nthweek_y',\n",
       " 'ga:ordercouponcode_y',\n",
       " 'ga:shoppingstage_y',\n",
       " 'ga:socialengagementtype_y',\n",
       " 'ga:week_y',\n",
       " 'ga:year_y',\n",
       " 'ga:yearmonth_y',\n",
       " 'ga:yearweek_y',\n",
       " 'intercom:conversation_rating',\n",
       " 'intercom:phone',\n",
       " 'intercom:last_contacted_(mdt)',\n",
       " 'intercom:last_heard_from_(mdt)',\n",
       " 'intercom:last_opened_email_(mdt)',\n",
       " 'intercom:last_clicked_on_link_in_email_(mdt)',\n",
       " 'intercom:language_override',\n",
       " 'intercom:twitter_followers',\n",
       " 'intercom:stripe_account_balance',\n",
       " 'intercom:stripe_delinquent',\n",
       " 'intercom:stripe_card_expires_at_(mdt)',\n",
       " 'intercom:stripe_card_brand',\n",
       " 'intercom:stripe_last_charge_at_(mdt)',\n",
       " 'intercom:stripe_last_charge_amount',\n",
       " 'intercom:product-purchased',\n",
       " 'intercom:purchase_value',\n",
       " 'intercom:purchase_count',\n",
       " 'intercom:affiliate_payment_email',\n",
       " 'intercom:affiliate_commission_rate',\n",
       " 'intercom:affiliate_earnings',\n",
       " 'intercom:affiliate_referrals',\n",
       " 'intercom:affiliate_visits',\n",
       " 'intercom:affiliate_date_registered_at_(mdt)',\n",
       " 'intercom:experiment:_exp_4654947882',\n",
       " 'intercom:url',\n",
       " 'intercom:industry',\n",
       " 'intercom:total_unread_count',\n",
       " 'intercom:lifetime_value',\n",
       " 'intercom:lifetime_purchase_count',\n",
       " 'intercom:license_key',\n",
       " 'intercom:license_status',\n",
       " 'intercom:experiment:_exp_6405110006',\n",
       " 'intercom:experiment:_exp_8454997294',\n",
       " 'intercom:experiment:_exp_8526793238',\n",
       " 'intercom:experiment:_exp_8539105281',\n",
       " 'intercom:company_last_seen_(mdt)',\n",
       " 'intercom:company_created_at_(mdt)',\n",
       " 'intercom:users',\n",
       " 'intercom:company_web_sessions',\n",
       " 'intercom:plan',\n",
       " 'intercom:monthly_spend',\n",
       " 'intercom:company_segment',\n",
       " 'intercom:company_tag',\n",
       " 'intercom:company_size',\n",
       " 'intercom:company_industry',\n",
       " 'intercom:company_website',\n",
       " 'drip:activation_count',\n",
       " 'drip:created_at.1',\n",
       " 'drip:anonymous_company_activations',\n",
       " 'drip:anonymous_company_expiring',\n",
       " 'drip:anonymous_company_is_lifetime',\n",
       " 'drip:anonymous_company_license_key',\n",
       " 'drip:import_entries_activation_count',\n",
       " 'drip:import_entries_activation_limit',\n",
       " 'drip:import_entries_expiration',\n",
       " 'drip:import_entries_key',\n",
       " 'drip:import_entries_status',\n",
       " 'drip:import_entries_staus',\n",
       " 'drip:inline_edit_activation_count',\n",
       " 'drip:inline_edit_activation_limit',\n",
       " 'drip:inline_edit_expiration',\n",
       " 'drip:inline_edit_key',\n",
       " 'drip:inline_edit_status',\n",
       " 'drip:ip_address.1',\n",
       " 'drip:maps_expiration',\n",
       " 'drip:maps_key',\n",
       " 'drip:maps_status',\n",
       " 'drip:math_expiration',\n",
       " 'drip:math_key',\n",
       " 'drip:math_status',\n",
       " 'drip:notes',\n",
       " 'drip:product_name',\n",
       " 'drip:purchase_value',\n",
       " 'drip:timestamp_exp',\n",
       " 'drip:url',\n",
       " 'drip:visual_composer_expiration',\n",
       " 'drip:visual_composer_key',\n",
       " 'drip:visual_composer_status',\n",
       " 'hubcust:emails_opened',\n",
       " 'hubcust:lead_status',\n",
       " 'hubcust:total_revenue',\n",
       " 'hubcust:klout_score',\n",
       " 'hubcust:ip_city',\n",
       " 'hubcust:recent_deal_close_date',\n",
       " 'hubcust:became_a_marketing_qualified_lead_date',\n",
       " 'hubcust:last_meeting_booked_campaign',\n",
       " 'hubcust:time_of_last_visit',\n",
       " 'hubcust:time_of_first_visit',\n",
       " 'hubcust:close_date',\n",
       " 'hubcust:message',\n",
       " 'hubcust:associated_deals',\n",
       " 'hubcust:recent_deal_amount',\n",
       " 'hubcust:number_of_times_contacted',\n",
       " 'hubcust:number_of_sales_activities',\n",
       " 'hubcust:first_conversion_date',\n",
       " 'hubcust:recent_sales_email_clicked_date',\n",
       " 'hubcust:recent_sales_email_opened_date',\n",
       " 'hubcust:first_deal_created_date',\n",
       " 'hubcust:last_meeting_booked_medium',\n",
       " 'hubcust:most_recent_social_click',\n",
       " 'hubcust:linkedin_bio',\n",
       " 'hubcust:first_conversion',\n",
       " 'hubcust:became_a_sales_qualified_lead_date',\n",
       " 'hubcust:last_meeting_booked',\n",
       " 'hubcust:first_email_click_date',\n",
       " 'hubcust:mobile_phone_number',\n",
       " 'hubcust:emails_delivered',\n",
       " 'hubcust:ip_address',\n",
       " 'hubcust:ip_country_code',\n",
       " 'hubcust:phone_number',\n",
       " 'hubcust:email_confirmation_status',\n",
       " 'hubcust:hubspot_owner',\n",
       " 'hubcust:last_activity_date',\n",
       " 'hubcust:next_activity_date',\n",
       " 'hubcust:last_meeting_booked_source',\n",
       " 'hubcust:owner_assigned_date',\n",
       " 'hubcust:paypal_email',\n",
       " 'hubcust:state/region',\n",
       " 'hubcust:became_an_opportunity_date',\n",
       " 'hubcust:emails_clicked',\n",
       " 'hubcust:follower_count',\n",
       " 'hubcust:last_email_open_date',\n",
       " 'hubcust:opted_out_of_all_email',\n",
       " 'hubcust:last_page_seen',\n",
       " 'hubcust:first_page_seen',\n",
       " 'hubcust:last_email_send_date',\n",
       " 'hubcust:ip_state_code/region_code',\n",
       " 'hubcust:recent_conversion_date',\n",
       " 'hubcust:became_an_other_lifecycle_date',\n",
       " 'hubcust:last_contacted',\n",
       " 'hubcust:street_address',\n",
       " 'hubcust:recent_conversion',\n",
       " 'hubcust:hubspot_team',\n",
       " 'hubcust:twitter_bio',\n",
       " 'hubcust:linkedin_connections',\n",
       " 'hubcust:last_email_click_date',\n",
       " 'hubcust:persona',\n",
       " 'hubcust:salutation',\n",
       " 'hubcust:sends_since_last_engagement',\n",
       " 'hubcust:became_a_customer_date',\n",
       " 'hubcust:tags',\n",
       " 'hubcust:currently_in_sequence',\n",
       " 'hubcust:ip_state/region',\n",
       " 'hubcust:time_last_seen',\n",
       " 'hubcust:became_a_lead_date',\n",
       " 'hubcust:recent_sales_email_replied_date',\n",
       " 'hubcust:website_url',\n",
       " 'hubcust:job_title',\n",
       " 'hubcust:hubspot_score',\n",
       " 'hubcust:first_referring_site',\n",
       " 'hubcust:last_referring_site',\n",
       " 'hubcust:twitter_profile_photo',\n",
       " 'hubcust:became_an_evangelist_date',\n",
       " 'hubcust:days_to_close',\n",
       " 'hubcust:annual_revenue',\n",
       " 'hubcust:birthday',\n",
       " 'hubcust:first_email_open_date',\n",
       " 'hubcust:ip_timezone',\n",
       " 'hubcust:fax_number',\n",
       " 'hubcust:ip_country',\n",
       " 'hubcust:industry',\n",
       " 'hubcust:first_email_send_date',\n",
       " 'hubcust:email_address_quarantined',\n",
       " 'hubcust:number_of_employees',\n",
       " 'hubcust:emails_bounced',\n",
       " 'hubcomp:lead_status',\n",
       " 'hubcomp:total_revenue',\n",
       " 'hubcomp:twitter_followers',\n",
       " 'hubcomp:recent_deal_close_date',\n",
       " 'hubcomp:number_of_employees',\n",
       " 'hubcomp:time_of_last_session',\n",
       " 'hubcomp:time_of_first_visit',\n",
       " 'hubcomp:close_date',\n",
       " 'hubcomp:facebook_fans',\n",
       " 'hubcomp:associated_deals',\n",
       " 'hubcomp:recent_deal_amount',\n",
       " 'hubcomp:first_deal_created_date',\n",
       " 'hubcomp:number_of_child_companies',\n",
       " 'hubcomp:hubspot_owner',\n",
       " 'hubcomp:about_us',\n",
       " 'hubcomp:last_activity_date',\n",
       " 'hubcomp:next_activity_date',\n",
       " 'hubcomp:owner_assigned_date',\n",
       " 'hubcomp:total_money_raised',\n",
       " 'hubcomp:lifecycle_stage',\n",
       " 'hubcomp:last_contacted',\n",
       " 'hubcomp:hubspot_team',\n",
       " 'hubcomp:twitter_bio',\n",
       " 'hubcomp:time_last_seen',\n",
       " 'hubcomp:type',\n",
       " 'hubcomp:google_plus_page',\n",
       " 'hubcomp:days_to_close',\n",
       " 'hubcomp:street_address_2',\n",
       " 'hubcomp:parent_company',\n",
       " 'turk:input.website_url',\n",
       " 'turk:turk_domain',\n",
       " 'turk:answer.well-made_y',\n",
       " 'turk:answer.industry_airlines/aviation',\n",
       " 'turk:answer.industry_alternative_dispute_resolution',\n",
       " 'turk:answer.industry_alternative_medicine',\n",
       " 'turk:answer.industry_animation',\n",
       " 'turk:answer.industry_apparel_&_fashion',\n",
       " 'turk:answer.industry_architecture_&_planning',\n",
       " 'turk:answer.industry_arts_and_crafts',\n",
       " 'turk:answer.industry_automotive',\n",
       " 'turk:answer.industry_aviation_&_aerospace',\n",
       " 'turk:answer.industry_banking',\n",
       " 'turk:answer.industry_biotechnology',\n",
       " 'turk:answer.industry_broadcast_media',\n",
       " 'turk:answer.industry_building_materials',\n",
       " 'turk:answer.industry_business_supplies_and_equipment',\n",
       " 'turk:answer.industry_capital_markets',\n",
       " 'turk:answer.industry_chemicals',\n",
       " 'turk:answer.industry_civic_&_social_organization',\n",
       " 'turk:answer.industry_civil_engineering',\n",
       " 'turk:answer.industry_commercial_real_estate',\n",
       " 'turk:answer.industry_computer_&_network_security',\n",
       " 'turk:answer.industry_computer_hardware',\n",
       " 'turk:answer.industry_computer_networking',\n",
       " 'turk:answer.industry_computer_software',\n",
       " 'turk:answer.industry_construction',\n",
       " 'turk:answer.industry_consumer_electronics',\n",
       " 'turk:answer.industry_consumer_goods',\n",
       " 'turk:answer.industry_consumer_services',\n",
       " 'turk:answer.industry_cosmetics',\n",
       " 'turk:answer.industry_dairy',\n",
       " 'turk:answer.industry_defense_&_space',\n",
       " 'turk:answer.industry_design',\n",
       " 'turk:answer.industry_e-learning',\n",
       " 'turk:answer.industry_education_management',\n",
       " 'turk:answer.industry_electrical/electronic_manufacturing',\n",
       " 'turk:answer.industry_entertainment',\n",
       " 'turk:answer.industry_environmental_services',\n",
       " 'turk:answer.industry_events_services',\n",
       " 'turk:answer.industry_executive_office',\n",
       " 'turk:answer.industry_facilities_services',\n",
       " 'turk:answer.industry_farming',\n",
       " 'turk:answer.industry_financial_services',\n",
       " 'turk:answer.industry_fine_art',\n",
       " 'turk:answer.industry_fishery',\n",
       " 'turk:answer.industry_food_&_beverages',\n",
       " 'turk:answer.industry_food_production',\n",
       " 'turk:answer.industry_fund-raising',\n",
       " 'turk:answer.industry_furniture',\n",
       " 'turk:answer.industry_gambling_&_casinos',\n",
       " 'turk:answer.industry_government_administration',\n",
       " 'turk:answer.industry_government_relations',\n",
       " 'turk:answer.industry_graphic_design',\n",
       " 'turk:answer.industry_health,_wellness_and_fitness',\n",
       " 'turk:answer.industry_higher_education',\n",
       " 'turk:answer.industry_hospital_&_health_care',\n",
       " 'turk:answer.industry_hospitality',\n",
       " 'turk:answer.industry_human_resources',\n",
       " 'turk:answer.industry_import_and_export',\n",
       " 'turk:answer.industry_individual_&_family_services',\n",
       " 'turk:answer.industry_industrial_automation',\n",
       " 'turk:answer.industry_information_services',\n",
       " 'turk:answer.industry_information_technology_and_services',\n",
       " 'turk:answer.industry_insurance',\n",
       " 'turk:answer.industry_international_affairs',\n",
       " 'turk:answer.industry_international_trade_and_development',\n",
       " 'turk:answer.industry_internet',\n",
       " 'turk:answer.industry_investment_management',\n",
       " 'turk:answer.industry_law_enforcement',\n",
       " 'turk:answer.industry_law_practice',\n",
       " 'turk:answer.industry_legal_services',\n",
       " 'turk:answer.industry_legislative_office',\n",
       " 'turk:answer.industry_leisure,_travel_&_tourism',\n",
       " 'turk:answer.industry_libraries',\n",
       " 'turk:answer.industry_logistics_and_supply_chain',\n",
       " 'turk:answer.industry_luxury_goods_&_jewelry',\n",
       " 'turk:answer.industry_machinery',\n",
       " 'turk:answer.industry_management_consulting',\n",
       " 'turk:answer.industry_maritime',\n",
       " 'turk:answer.industry_market_research',\n",
       " 'turk:answer.industry_marketing_and_advertising',\n",
       " 'turk:answer.industry_mechanical_or_industrial_engineering',\n",
       " 'turk:answer.industry_media_production',\n",
       " 'turk:answer.industry_medical_devices',\n",
       " 'turk:answer.industry_medical_practice',\n",
       " 'turk:answer.industry_mental_health_care',\n",
       " 'turk:answer.industry_military',\n",
       " 'turk:answer.industry_mining_&_metals',\n",
       " 'turk:answer.industry_motion_pictures_and_film',\n",
       " 'turk:answer.industry_museums_and_institutions',\n",
       " 'turk:answer.industry_music',\n",
       " 'turk:answer.industry_nanotechnology',\n",
       " 'turk:answer.industry_newspapers',\n",
       " 'turk:answer.industry_non-profit_organization_management',\n",
       " 'turk:answer.industry_oil_&_energy',\n",
       " 'turk:answer.industry_online_media',\n",
       " 'turk:answer.industry_other',\n",
       " 'turk:answer.industry_outsourcing/offshoring',\n",
       " 'turk:answer.industry_package/freight_delivery',\n",
       " 'turk:answer.industry_performing_arts',\n",
       " 'turk:answer.industry_pharmaceuticals',\n",
       " 'turk:answer.industry_philanthropy',\n",
       " 'turk:answer.industry_photography',\n",
       " 'turk:answer.industry_plastics',\n",
       " 'turk:answer.industry_political_organization',\n",
       " 'turk:answer.industry_primary/secondary_education',\n",
       " 'turk:answer.industry_printing',\n",
       " 'turk:answer.industry_professional_training_&_coaching',\n",
       " 'turk:answer.industry_program_development',\n",
       " 'turk:answer.industry_public_policy',\n",
       " 'turk:answer.industry_public_relations_and_communications',\n",
       " 'turk:answer.industry_public_safety',\n",
       " 'turk:answer.industry_publishing',\n",
       " 'turk:answer.industry_ranching',\n",
       " 'turk:answer.industry_real_estate',\n",
       " 'turk:answer.industry_recreational_facilities_and_services',\n",
       " 'turk:answer.industry_religious_institutions',\n",
       " 'turk:answer.industry_research',\n",
       " 'turk:answer.industry_restaurants',\n",
       " 'turk:answer.industry_retail',\n",
       " 'turk:answer.industry_security_and_investigations',\n",
       " 'turk:answer.industry_sporting_goods',\n",
       " 'turk:answer.industry_sports',\n",
       " 'turk:answer.industry_staffing_and_recruiting',\n",
       " 'turk:answer.industry_supermarkets',\n",
       " 'turk:answer.industry_telecommunications',\n",
       " 'turk:answer.industry_textiles',\n",
       " 'turk:answer.industry_think_tanks',\n",
       " 'turk:answer.industry_tobacco',\n",
       " 'turk:answer.industry_translation_and_localization',\n",
       " 'turk:answer.industry_transportation/trucking/railroad',\n",
       " 'turk:answer.industry_utilities',\n",
       " 'turk:answer.industry_venture_capital_&_private_equity',\n",
       " 'turk:answer.industry_veterinary',\n",
       " 'turk:answer.industry_web_agency',\n",
       " 'turk:answer.industry_web_design',\n",
       " 'turk:answer.industry_web_development',\n",
       " 'turk:answer.industry_wholesale',\n",
       " 'turk:answer.industry_wine_and_spirits',\n",
       " 'turk:answer.industry_writing_and_editing',\n",
       " 'turk:answer.industry_{}',\n",
       " 'turk:answer.industry_nan',\n",
       " u'helpscout:age_x',\n",
       " u'helpscout:jobtitle_x',\n",
       " u'helpscout:organization_x',\n",
       " u'helpscout:chats',\n",
       " u'helpscout:background',\n",
       " 'helpscout:city',\n",
       " u'helpscout:age_y',\n",
       " 'helpscout:state',\n",
       " u'helpscout:jobtitle_y',\n",
       " 'helpscout:postalcode',\n",
       " u'helpscout:organization_y',\n",
       " 'helpscout:country']"
      ]
     },
     "execution_count": 163,
     "metadata": {},
     "output_type": "execute_result"
    }
   ],
   "source": [
    "# Drop any columns with a significant proportion of null values (store column names to do the same for test data)\n",
    "null_dropped_cols = []\n",
    "for col in train_df:\n",
    "    try:\n",
    "        if train_df[col].isnull().sum()/float(train_df.shape[0]) >= 0.80:\n",
    "            null_dropped_cols.append(col)\n",
    "            train_df.drop(col, axis=1, inplace=True)\n",
    "        else:\n",
    "            continue\n",
    "    except:\n",
    "        continue\n",
    "null_dropped_cols"
   ]
  },
  {
   "cell_type": "code",
   "execution_count": 164,
   "metadata": {
    "scrolled": true
   },
   "outputs": [
    {
     "data": {
      "text/plain": [
       "(3062, 137)"
      ]
     },
     "execution_count": 164,
     "metadata": {},
     "output_type": "execute_result"
    }
   ],
   "source": [
    "train_df.shape"
   ]
  },
  {
   "cell_type": "code",
   "execution_count": 165,
   "metadata": {
    "scrolled": true
   },
   "outputs": [
    {
     "data": {
      "text/plain": [
       "['edd:mode_(live|test)',\n",
       " 'edd:status',\n",
       " 'edd:licenses_nan',\n",
       " 'edd:payment_method_nan',\n",
       " 'intercom:unsubscribed_from_emails',\n",
       " 'intercom:marked_email_as_spam',\n",
       " 'intercom:has_hard_bounced',\n",
       " 'drip:status',\n",
       " 'hubcust:broadcast_clicks',\n",
       " 'hubcust:number_of_pageviews',\n",
       " 'hubcust:facebook_clicks',\n",
       " 'hubcust:google_plus_clicks',\n",
       " 'hubcust:original_source',\n",
       " 'hubcust:number_of_form_submissions',\n",
       " 'hubcust:number_of_event_completions',\n",
       " 'hubcust:average_pageviews',\n",
       " 'hubcust:number_of_unique_forms_submitted',\n",
       " 'hubcust:number_of_visits',\n",
       " 'hubcust:linkedin_clicks',\n",
       " 'hubcust:event_revenue',\n",
       " 'hubcust:lifecycle_stage',\n",
       " 'hubcust:twitter_clicks',\n",
       " 'hubcomp:number_of_pageviews',\n",
       " 'hubcomp:original_source_type',\n",
       " 'hubcomp:number_of_visits']"
      ]
     },
     "execution_count": 165,
     "metadata": {},
     "output_type": "execute_result"
    }
   ],
   "source": [
    "# Identify and drop columns with only one value OR one value with a nan\n",
    "one_value = []\n",
    "for col in train_df.columns:\n",
    "    try:\n",
    "        if len(train_df[col].unique()) == 1:\n",
    "            one_value.append(col)\n",
    "            train_df.drop(col, inplace=True, axis=1)\n",
    "        elif len(train_df[col].unique()) == 2:\n",
    "            for x in train_df[col].unique():\n",
    "                # Identifies nans\n",
    "                if x != x:\n",
    "                    one_value.append(col)\n",
    "                    train_df.drop(col, inplace=True, axis=1)\n",
    "                    break\n",
    "    except:\n",
    "        continue\n",
    "one_value"
   ]
  },
  {
   "cell_type": "code",
   "execution_count": 166,
   "metadata": {},
   "outputs": [
    {
     "data": {
      "text/plain": [
       "(3062, 112)"
      ]
     },
     "execution_count": 166,
     "metadata": {},
     "output_type": "execute_result"
    }
   ],
   "source": [
    "train_df.shape"
   ]
  },
  {
   "cell_type": "code",
   "execution_count": 181,
   "metadata": {
    "collapsed": true
   },
   "outputs": [],
   "source": [
    "# Dropping other columns such as date columns or columns with leakage\n",
    "train_df.drop(['ga:totalvalue_x', 'ga:totalvalue_y', 'ga:isoyear_x', 'ga:month_x', 'ga:year_x', 'drip:anonymous_company_key',\n",
    "               'hubcomp:facebook_company_page', 'hubcomp:linkedin_bio', 'hubcust:associated_company', 'hubcomp:street_address',\n",
    "               'hubcomp:description', 'helpscout:photourl_x','helpscout:photourl_y', 'helpscout:websites', 'edd:city',\n",
    "               'edd:zip_/_postal_code', 'hubcomp:linkedin_company_page', 'hubcomp:web_technologies', 'helpscout:location_x',\n",
    "              'ga:yearmonth_x', 'ga:isoyear_y', 'ga:month_y', 'ga:year_y', 'ga:yearmonth_y', 'drip:lifetime_value',\n",
    "               'helpscout:location_y', 'helpscout:socialprofiles_links', 'helpscout:phones', 'helpscout:socialprofiles',\n",
    "               'hubcomp:phone_number', 'edd:email', 'intercom:order_total', 'drip:purchase_count', 'edd:currency',\n",
    "               'ga:continentid', 'ga:countryisocode', 'ga:hostname', 'ga:subcontientcode', 'edd:total_spent',\n",
    "               'intercom:first_seen_(mdt)', 'intercom:signed_up_(mdt)', 'revenue:date_created', 'edd:date', 'intercom:signed_up_(mdt)',\n",
    "               'intercom:last_seen_(mdt)', 'drip:created_at', 'drip:confirmed_at', 'hubcust:create_date', 'hubcust:last_modified_date',\n",
    "               'hubcust:became_a_subscriber_date', 'hubcust:time_first_seen', 'hubcomp:last_modified_date', 'hubcomp:create_date',\n",
    "               'hubcomp:first_contact_create_date', 'hubcomp:time_first_seen', 'helpscout:createdat_x', 'helpscout:modifiedat_x',\n",
    "               'helpscout:createdat_y', 'helpscout:modifiedat_y', 'drip:landing_url', 'drip:referrer', 'hubcomp:website_url',\n",
    "               'edd:licenses_license1', 'edd:licenses_license2', 'edd:licenses_license3', 'edd:licenses_no_license','revenue:name',\n",
    "               'ga:fullreferrer', 'intercom:city', 'drip:ip_address', 'drip:anonymous_company_expiration',\n",
    "               'hubcust:postal_code', 'hubcust:city', 'hubcomp:postal_code', 'hubcomp:city',\n",
    "               'hubcomp:twitter_handle', 'drip:tags', 'helpscout:email_types'\n",
    "              ], inplace=True, axis=1)"
   ]
  },
  {
   "cell_type": "code",
   "execution_count": 168,
   "metadata": {
    "collapsed": true
   },
   "outputs": [],
   "source": [
    "# Set numerical & categorical values for use later\n",
    "numerical_vals = train_df.select_dtypes(exclude=['object', 'bool','datetime64'])                                     \n",
    "categorical_vals = train_df.select_dtypes(include=['object', 'bool'])"
   ]
  },
  {
   "cell_type": "code",
   "execution_count": 95,
   "metadata": {
    "scrolled": true
   },
   "outputs": [
    {
     "name": "stdout",
     "output_type": "stream",
     "text": [
      "ga:metroid\n",
      "edd:licenses_license1\n",
      "[0.0 1.0 nan]\n",
      "\n",
      "\n",
      "\n",
      "edd:licenses_license2\n",
      "[1.0 0.0 nan]\n",
      "\n",
      "\n",
      "\n",
      "edd:licenses_license3\n",
      "[0.0 1.0 nan]\n",
      "\n",
      "\n",
      "\n",
      "edd:licenses_no_license\n",
      "[0.0 1.0 nan]\n",
      "\n",
      "\n",
      "\n",
      "edd:payment_method_amazon\n",
      "[0.0 nan 1.0]\n",
      "\n",
      "\n",
      "\n",
      "edd:payment_method_paypal_express\n",
      "[0.0 nan 1.0]\n",
      "\n",
      "\n",
      "\n",
      "edd:payment_method_paypal_pro\n",
      "[1.0 0.0 nan]\n",
      "\n",
      "\n",
      "\n",
      "edd:payment_method_paypal_standard\n",
      "[0.0 1.0 nan]\n",
      "\n",
      "\n",
      "\n",
      "edd:payment_method_manual_purchases\n",
      "[0.0 nan 1.0]\n",
      "\n",
      "\n",
      "\n",
      "edd:payment_method_stripe\n",
      "[0.0 1.0 nan]\n",
      "\n",
      "\n",
      "\n",
      "drip:anonymous_company_activation_limit\n",
      "[   3.  100.   nan    1.   10.    2.]\n",
      "\n",
      "\n",
      "\n",
      "hubcomp:associated_contacts\n",
      "[ nan   1.   2.   3.   0.]\n",
      "\n",
      "\n",
      "\n",
      "hubcomp:annual_revenue\n",
      "[             nan   1.00000000e+09   1.00000000e+06   1.00000000e+07\n",
      "   5.00000000e+07   1.00000000e+08   2.50000000e+08   5.00000000e+08\n",
      "   2.00000000e+08]\n",
      "\n",
      "\n",
      "\n"
     ]
    }
   ],
   "source": [
    "# Looking at currently coded as numeric columns that only have a few values or have id in the name\n",
    "# (to see if they should be categorical)\n",
    "for x in numerical_vals.columns:\n",
    "    if len(train_df[x].unique())<10:\n",
    "        print(x)\n",
    "        print(train_df[x].unique())\n",
    "        print('\\n\\n')\n",
    "    elif 'id' in x:\n",
    "        print(x)"
   ]
  },
  {
   "cell_type": "code",
   "execution_count": 172,
   "metadata": {},
   "outputs": [],
   "source": [
    "# Resetting numerical columns to objects as applicable\n",
    "train_df[['edd:payment_method_paypal_pro',  'edd:payment_method_manual_purchases',\n",
    "         'edd:payment_method_stripe', 'edd:payment_method_paypal_express', 'edd:payment_method_paypal_standard',\n",
    "         'edd:payment_method_amazon', 'edd:payment_method_paypal_express', 'edd:payment_method_paypal_pro',\n",
    "         'edd:payment_method_paypal_standard', 'edd:payment_method_manual_purchases', 'edd:payment_method_stripe']] = train_df[[\n",
    "         'edd:payment_method_paypal_pro',  'edd:payment_method_manual_purchases',\n",
    "         'edd:payment_method_stripe', 'edd:payment_method_paypal_express', 'edd:payment_method_paypal_standard', \n",
    "         'edd:payment_method_amazon', 'edd:payment_method_paypal_express', 'edd:payment_method_paypal_pro',\n",
    "         'edd:payment_method_paypal_standard', 'edd:payment_method_manual_purchases', 'edd:payment_method_stripe']].astype(object)"
   ]
  },
  {
   "cell_type": "code",
   "execution_count": 173,
   "metadata": {},
   "outputs": [],
   "source": [
    "# Set numerical & categorical values for use later\n",
    "numerical_vals = train_df.select_dtypes(exclude=['object', 'bool','datetime64'])                                     \n",
    "categorical_vals = train_df.select_dtypes(include=['object', 'bool'])"
   ]
  },
  {
   "cell_type": "code",
   "execution_count": 174,
   "metadata": {
    "collapsed": true
   },
   "outputs": [],
   "source": [
    "# Quick fill numerical null values\n",
    "for col in numerical_vals:\n",
    "    train_df[col] = train_df[col].fillna(train_df[col].mean())"
   ]
  },
  {
   "cell_type": "code",
   "execution_count": null,
   "metadata": {
    "scrolled": true
   },
   "outputs": [],
   "source": [
    "# Violinplots of individual columns\n",
    "bar = progressbar.ProgressBar()\n",
    "for col in bar(numerical_vals):\n",
    "    fig = plt.figure(figsize=(10, 10))\n",
    "    ax = fig.add_subplot(111)\n",
    "    ax.set_title(col)\n",
    "    sns.violinplot(x=train_df[col], orient='v', ax=ax, palette='pastel')\n",
    "    text = '75th Percentile: {}\\nMedian: {}\\n25th Percentile: {}'.format(np.percentile(train_df[col], 75),\\\n",
    "            np.median(train_df[col]),np.percentile(train_df[col], 25))\n",
    "    at = AnchoredText(text, prop=dict(size=15), frameon=True, loc=1)\n",
    "    ax.add_artist(at)\n",
    "    plt.savefig('../images/violinplot_{}'.format(col))"
   ]
  },
  {
   "cell_type": "code",
   "execution_count": null,
   "metadata": {
    "scrolled": true
   },
   "outputs": [],
   "source": [
    "# Bar graphs of individual columns\n",
    "bar = progressbar.ProgressBar()\n",
    "for col in bar(categorical_vals):\n",
    "    try:\n",
    "        if len(train_df[col].unique())>100:\n",
    "            continue\n",
    "        else:\n",
    "            height = len(train_df[col].unique())+10\n",
    "            fig = plt.figure(figsize=(20, height))\n",
    "            ax = fig.add_subplot(111)\n",
    "            ax.set_title(col)\n",
    "            sns.countplot(y=train_df[col], ax=ax, palette='pastel')\n",
    "            plt.savefig('../images/bargraph_{}'.format(col))\n",
    "    except:\n",
    "        continue"
   ]
  },
  {
   "cell_type": "code",
   "execution_count": null,
   "metadata": {},
   "outputs": [],
   "source": [
    "# Violinplots of target by all object columns values\n",
    "target = 'revenue:purchase_value'\n",
    "\n",
    "# Violinplots of target by all object columns\n",
    "bar = progressbar.ProgressBar()\n",
    "for col in bar(categorical_vals):\n",
    "    try:\n",
    "        if len(train_df[col].unique())>100:\n",
    "            continue\n",
    "        else:\n",
    "            height = len(train_df[col].unique())+10\n",
    "            fig = plt.figure(figsize=(20, height))\n",
    "            ax = fig.add_subplot(111)\n",
    "            ax.set_title(col)\n",
    "            sns.violinplot(y=train_df[col], x=train_df[target], orient='h', ax=ax, palette='pastel')\n",
    "            plt.savefig('../images/{}_violinplot_{}'.format(target, col))\n",
    "    except:\n",
    "        continue"
   ]
  },
  {
   "cell_type": "code",
   "execution_count": 175,
   "metadata": {
    "scrolled": true
   },
   "outputs": [],
   "source": [
    "# Quick fill categorical null values\n",
    "train_df = train_df.fillna('missing')"
   ]
  },
  {
   "cell_type": "code",
   "execution_count": 176,
   "metadata": {},
   "outputs": [],
   "source": [
    "# Force stray unicode into strings\n",
    "for column in categorical_vals.columns:\n",
    "    train_df[column] = train_df[column].astype(str)"
   ]
  },
  {
   "cell_type": "code",
   "execution_count": 182,
   "metadata": {
    "collapsed": true
   },
   "outputs": [],
   "source": [
    "# Pickling data\n",
    "df.to_pickle('../data/total_df_pickle')\n",
    "train_df.to_pickle('../data/train_df_pickle')\n",
    "test_df.to_pickle('../data/test_df_pickle')\n",
    "\n",
    "train_df = pd.read_pickle('../data/train_df_pickle')"
   ]
  },
  {
   "cell_type": "code",
   "execution_count": 183,
   "metadata": {},
   "outputs": [],
   "source": [
    "# Create dummy variables\n",
    "for column in categorical_vals.columns:\n",
    "    try:\n",
    "        train_df = pd.get_dummies(train_df, drop_first=True, dummy_na=True, columns=[column])\n",
    "    except:\n",
    "        pass"
   ]
  },
  {
   "cell_type": "code",
   "execution_count": 185,
   "metadata": {
    "collapsed": true
   },
   "outputs": [],
   "source": [
    "# Pickling data\n",
    "df.to_pickle('../data/total_df_pickle')\n",
    "train_df.to_pickle('../data/train_df_pickle')\n",
    "test_df.to_pickle('../data/test_df_pickle')"
   ]
  },
  {
   "cell_type": "code",
   "execution_count": null,
   "metadata": {
    "collapsed": true
   },
   "outputs": [],
   "source": [
    "# Checking for correlated features\n",
    "c = train_df.corr().abs()\n",
    "s = c.unstack()\n",
    "s.sort_values(ascending=False)"
   ]
  }
 ],
 "metadata": {
  "kernelspec": {
   "display_name": "Python 2",
   "language": "python",
   "name": "python2"
  },
  "language_info": {
   "codemirror_mode": {
    "name": "ipython",
    "version": 2
   },
   "file_extension": ".py",
   "mimetype": "text/x-python",
   "name": "python",
   "nbconvert_exporter": "python",
   "pygments_lexer": "ipython2",
   "version": "2.7.13"
  }
 },
 "nbformat": 4,
 "nbformat_minor": 2
}
