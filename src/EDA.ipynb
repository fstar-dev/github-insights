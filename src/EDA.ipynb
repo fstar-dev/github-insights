{
 "cells": [
  {
   "cell_type": "code",
   "execution_count": null,
   "metadata": {
    "collapsed": true
   },
   "outputs": [],
   "source": [
    "import pandas as pd\n",
    "import numpy as np\n",
    "import seaborn as sns\n",
    "import matplotlib.pyplot as plt\n",
    "import matplotlib as mpl\n",
    "from mpl_toolkits.axes_grid.anchored_artists import AnchoredText\n",
    "import re\n",
    "import folium\n",
    "import progressbar\n",
    "%matplotlib inline"
   ]
  },
  {
   "cell_type": "code",
   "execution_count": null,
   "metadata": {
    "collapsed": true
   },
   "outputs": [],
   "source": [
    "# Setting up nice graph formatting\n",
    "mpl.rcParams.update({\n",
    "    'font.size'           : 20.0,\n",
    "    'axes.titlesize'      : 'large',\n",
    "    'axes.labelsize'      : 'medium',\n",
    "    'xtick.labelsize'     : 'small',\n",
    "    'ytick.labelsize'     : 'small',\n",
    "    'legend.fontsize'     : 'small',\n",
    "})"
   ]
  },
  {
   "cell_type": "code",
   "execution_count": null,
   "metadata": {
    "collapsed": true
   },
   "outputs": [],
   "source": [
    "# Force pandas & numpy to display all data\n",
    "pd.set_option('display.max_columns', None)\n",
    "pd.set_option('display.max_rows', None)\n",
    "pd.set_option('max_info_columns', 100000)\n",
    "pd.set_option('max_seq_items', None)\n",
    "np.set_printoptions(threshold=np.nan)"
   ]
  },
  {
   "cell_type": "code",
   "execution_count": null,
   "metadata": {},
   "outputs": [],
   "source": [
    "# Importing df \n",
    "df = pd.read_pickle('../data/all-datasets/original_df')"
   ]
  },
  {
   "cell_type": "code",
   "execution_count": null,
   "metadata": {},
   "outputs": [],
   "source": [
    "# Mapping customers\n",
    "locations = df[['ga:latitude', 'ga:longitude']]\n",
    "locationlist = locations.values.tolist()\n",
    "locationlist = [x for x in locationlist if x[0]==x[0] and x[0]!=0.0]\n",
    "cust_map = folium.Map()\n",
    "for point in range(0, len(locationlist)):\n",
    "    folium.Marker(locationlist[point]).add_to(cust_map)\n",
    "cust_map"
   ]
  },
  {
   "cell_type": "code",
   "execution_count": null,
   "metadata": {},
   "outputs": [],
   "source": [
    "# Checking percentage of null values\n",
    "nulls = df.isnull().sum()/float(df.shape[0])\n",
    "\n",
    "# Breaking into x and y's for bar graph\n",
    "nulls = pd.DataFrame(nulls)\n",
    "categories = list(nulls.index)\n",
    "values = list(nulls[0])\n",
    "\n",
    "# Forming bar graph in seaborn\n",
    "fig = plt.figure(figsize=(15,200))\n",
    "ax = fig.add_subplot(111)\n",
    "ax.set_xlabel('Proportion of Null Values')\n",
    "ax.set_title('Proportion of Null Values by Feature')\n",
    "sns.barplot(y=categories, x=values, orient='h', ax=ax, palette='pastel')\n",
    "plt.savefig('../images/null_values.png', dpi=300)"
   ]
  },
  {
   "cell_type": "code",
   "execution_count": null,
   "metadata": {},
   "outputs": [],
   "source": [
    "# Checking for identifier columns to drop\n",
    "lst = []\n",
    "for x in df.columns:\n",
    "    if 'id' in x:\n",
    "        lst.append(x)\n",
    "    elif 'email' in x:\n",
    "        lst.append(x)\n",
    "    elif 'name' in x:\n",
    "        lst.append(x)\n",
    "for column in lst:\n",
    "    try:\n",
    "        print(column, len(df[column].unique()))\n",
    "        print(df[column].unique()[:20])\n",
    "        print('\\n\\n')\n",
    "    except:\n",
    "        pass"
   ]
  },
  {
   "cell_type": "code",
   "execution_count": null,
   "metadata": {},
   "outputs": [],
   "source": [
    "# Identify (and later drop) columns with only one value OR one value with a nan\n",
    "one_value = []\n",
    "for col in df.columns:\n",
    "    try:\n",
    "        if len(df[col].unique()) == 1:\n",
    "            one_value.append(col)\n",
    "        elif len(df[col].unique()) == 2:\n",
    "            for x in df[col].unique():\n",
    "                # Identifies nans\n",
    "                if x != x:\n",
    "                    one_value.append(col)\n",
    "                    break\n",
    "    except:\n",
    "        continue\n",
    "\n",
    "for column in one_value:\n",
    "    try:\n",
    "        print(column)\n",
    "        print(df[column].unique())\n",
    "        print('\\n\\n')\n",
    "    except:\n",
    "        pass"
   ]
  },
  {
   "cell_type": "code",
   "execution_count": null,
   "metadata": {},
   "outputs": [],
   "source": [
    "# Set numerical & categorical values for use later\n",
    "numerical_vals = df.select_dtypes(include=['float64', 'int64'])\n",
    "for column in numerical_vals.columns:\n",
    "    if len(numerical_vals[column].unique()) <= 3:\n",
    "        numerical_vals.drop(column, inplace=True, axis=1)\n",
    "categorical_vals = df.drop(numerical_vals, axis=1)"
   ]
  },
  {
   "cell_type": "code",
   "execution_count": null,
   "metadata": {},
   "outputs": [],
   "source": [
    "# Looking at currently coded as numeric columns that only have a few values or have id in the name\n",
    "# (to see if they should be categorical)\n",
    "for x in numerical_vals.columns:\n",
    "    if len(df[x].unique())<10:\n",
    "        print(x)\n",
    "        print(df[x].unique())\n",
    "        print('\\n\\n')\n",
    "    elif 'id' in x:\n",
    "        print(x)"
   ]
  },
  {
   "cell_type": "code",
   "execution_count": null,
   "metadata": {},
   "outputs": [],
   "source": [
    "# Reset types\n",
    "numerical_vals = df.select_dtypes(include=['float64', 'int64'])\n",
    "for column in numerical_vals.columns:\n",
    "    if len(numerical_vals[column].unique()) <= 3:\n",
    "        numerical_vals.drop(column, inplace=True, axis=1)\n",
    "categorical_vals = df.drop(numerical_vals, axis=1)"
   ]
  },
  {
   "cell_type": "code",
   "execution_count": null,
   "metadata": {},
   "outputs": [],
   "source": [
    "# Quick fill numerical null values in order to make violinplots\n",
    "for column in numerical_vals.columns:\n",
    "    mean = df[column].mean()\n",
    "    df[column] = df[column].fillna(mean)"
   ]
  },
  {
   "cell_type": "code",
   "execution_count": null,
   "metadata": {},
   "outputs": [],
   "source": [
    "# Violinplots of individual columns\n",
    "bar = progressbar.ProgressBar()\n",
    "for col in bar(numerical_vals):\n",
    "    fig = plt.figure(figsize=(10, 10))\n",
    "    ax = fig.add_subplot(111)\n",
    "    ax.set_title(col)\n",
    "    sns.violinplot(x=df[col], orient='v', ax=ax, palette='pastel')\n",
    "    text = '75th Percentile: {}\\nMedian: {}\\n25th Percentile: {}'.format(np.percentile(df[col], 75),\\\n",
    "            np.median(df[col]),np.percentile(df[col], 25))\n",
    "    at = AnchoredText(text, prop=dict(size=15), frameon=True, loc=1)\n",
    "    ax.add_artist(at)\n",
    "    plt.savefig('../images/violinplot_{}'.format(col))"
   ]
  },
  {
   "cell_type": "code",
   "execution_count": null,
   "metadata": {},
   "outputs": [],
   "source": [
    "# Bar graphs of individual columns\n",
    "bar = progressbar.ProgressBar()\n",
    "for col in bar(categorical_vals):\n",
    "    try:\n",
    "        if len(df[col].unique())>100:\n",
    "            continue\n",
    "        else:\n",
    "            height = len(df[col].unique())+10\n",
    "            fig = plt.figure(figsize=(20, height))\n",
    "            ax = fig.add_subplot(111)\n",
    "            ax.set_title(col)\n",
    "            sns.countplot(y=df[col], ax=ax, palette='pastel')\n",
    "            plt.savefig('../images/bargraph_{}'.format(col))\n",
    "    except:\n",
    "        continue"
   ]
  },
  {
   "cell_type": "code",
   "execution_count": null,
   "metadata": {
    "collapsed": true
   },
   "outputs": [],
   "source": [
    "# Violinplots of target by all object columns values\n",
    "target = 'revenue:purchase_value'\n",
    "\n",
    "# Violinplots of target by all object columns\n",
    "bar = progressbar.ProgressBar()\n",
    "for col in bar(categorical_vals):\n",
    "    try:\n",
    "        if len(df[col].unique())>100:\n",
    "            continue\n",
    "        else:\n",
    "            height = len(df[col].unique())+10\n",
    "            fig = plt.figure(figsize=(20, height))\n",
    "            ax = fig.add_subplot(111)\n",
    "            ax.set_title(col)\n",
    "            sns.violinplot(y=train_df[col], x=df[target], orient='h', ax=ax, palette='pastel')\n",
    "            plt.savefig('../images/{}_violinplot_{}'.format(target, col))\n",
    "    except:\n",
    "        continue"
   ]
  },
  {
   "cell_type": "code",
   "execution_count": null,
   "metadata": {
    "collapsed": true
   },
   "outputs": [],
   "source": []
  }
 ],
 "metadata": {
  "kernelspec": {
   "display_name": "Python 2",
   "language": "python",
   "name": "python2"
  },
  "language_info": {
   "codemirror_mode": {
    "name": "ipython",
    "version": 2
   },
   "file_extension": ".py",
   "mimetype": "text/x-python",
   "name": "python",
   "nbconvert_exporter": "python",
   "pygments_lexer": "ipython2",
   "version": "2.7.13"
  }
 },
 "nbformat": 4,
 "nbformat_minor": 2
}
