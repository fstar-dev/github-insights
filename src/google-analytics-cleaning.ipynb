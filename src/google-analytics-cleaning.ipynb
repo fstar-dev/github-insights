{
 "cells": [
  {
   "cell_type": "code",
   "execution_count": 1,
   "metadata": {
    "collapsed": true
   },
   "outputs": [],
   "source": [
    "import pandas as pd\n",
    "import numpy as np"
   ]
  },
  {
   "cell_type": "code",
   "execution_count": 2,
   "metadata": {
    "collapsed": true
   },
   "outputs": [],
   "source": [
    "# Force pandas & numpy to display all data\n",
    "pd.set_option('display.max_columns', None)\n",
    "pd.set_option('display.max_rows', None)\n",
    "pd.set_option('max_info_columns', 100000)\n",
    "pd.set_option('max_seq_items', None)\n",
    "np.set_printoptions(threshold=np.nan)"
   ]
  },
  {
   "cell_type": "code",
   "execution_count": 4,
   "metadata": {
    "collapsed": true
   },
   "outputs": [],
   "source": [
    "# Reading in all the separate csv files\n",
    "df1 = pd.read_csv('google-data/google_dimensions_9-20-17_enddate_2014-10-31', low_memory=False, na_values='(not set)')\n",
    "df2 = pd.read_csv('google-data/google_dimensions_9-20-17_enddate_2015-01-31', low_memory=False, na_values='(not set)')\n",
    "df3 = pd.read_csv('google-data/google_dimensions_9-20-17_enddate_2015-04-31', low_memory=False, na_values='(not set)')\n",
    "df4 = pd.read_csv('google-data/google_dimensions_9-20-17_enddate_2015-07-31', low_memory=False, na_values='(not set)')\n",
    "df5 = pd.read_csv('google-data/google_dimensions_9-20-17_enddate_2015-10-31', low_memory=False, na_values='(not set)')\n",
    "df6 = pd.read_csv('google-data/google_dimensions_9-20-17_enddate_2016-01-31', low_memory=False, na_values='(not set)')\n",
    "df7 = pd.read_csv('google-data/google_dimensions_9-20-17_enddate_2016-04-31', low_memory=False, na_values='(not set)')\n",
    "df8 = pd.read_csv('google-data/google_dimensions_9-20-17_enddate_2016-07-31', low_memory=False, na_values='(not set)')\n",
    "df9 = pd.read_csv('google-data/google_dimensions_9-20-17_enddate_2016-10-31', low_memory=False, na_values='(not set)')\n",
    "df10 = pd.read_csv('google-data/google_dimensions_9-20-17_enddate_2017-01-31', low_memory=False, na_values='(not set)')\n",
    "df11 = pd.read_csv('google-data/google_dimensions_9-20-17_enddate_2017-04-31', low_memory=False, na_values='(not set)')\n",
    "df12 = pd.read_csv('google-data/google_dimensions_9-20-17_enddate_2017-07-31', low_memory=False, na_values='(not set)')\n",
    "df13 = pd.read_csv('google-data/google_dimensions_9-20-17_enddate_2017-08-31', low_memory=False, na_values='(not set)')"
   ]
  },
  {
   "cell_type": "code",
   "execution_count": 5,
   "metadata": {
    "collapsed": true
   },
   "outputs": [],
   "source": [
    "# Concatenating files\n",
    "df = pd.concat([df1, df2, df3, df4, df5, df6, df7, df8, df9, df10, df11, df12, df13], axis=0)"
   ]
  },
  {
   "cell_type": "code",
   "execution_count": 6,
   "metadata": {
    "collapsed": true
   },
   "outputs": [],
   "source": [
    "# Reading in all the separate csv files for the rest of the dimensions\n",
    "df1 = pd.read_csv('google-data/google_dimensions_second_run_9-20-17_enddate_2014-10-31', low_memory=False, na_values='(not set)')\n",
    "df2 = pd.read_csv('google-data/google_dimensions_second_run_9-20-17_enddate_2015-01-31', low_memory=False, na_values='(not set)')\n",
    "df3 = pd.read_csv('google-data/google_dimensions_second_run_9-20-17_enddate_2015-04-31', low_memory=False, na_values='(not set)')\n",
    "df4 = pd.read_csv('google-data/google_dimensions_second_run_9-20-17_enddate_2015-07-31', low_memory=False, na_values='(not set)')\n",
    "df5 = pd.read_csv('google-data/google_dimensions_second_run_9-20-17_enddate_2015-10-31', low_memory=False, na_values='(not set)')\n",
    "df6 = pd.read_csv('google-data/google_dimensions_second_run_9-20-17_enddate_2016-01-31', low_memory=False, na_values='(not set)')\n",
    "df7 = pd.read_csv('google-data/google_dimensions_second_run_9-20-17_enddate_2016-04-31', low_memory=False, na_values='(not set)')\n",
    "df8 = pd.read_csv('google-data/google_dimensions_second_run_9-20-17_enddate_2016-07-31', low_memory=False, na_values='(not set)')\n",
    "df9 = pd.read_csv('google-data/google_dimensions_second_run_9-20-17_enddate_2016-10-31', low_memory=False, na_values='(not set)')\n",
    "df10 = pd.read_csv('google-data/google_dimensions_second_run_9-20-17_enddate_2017-01-31', low_memory=False, na_values='(not set)')\n",
    "df11 = pd.read_csv('google-data/google_dimensions_second_run_9-20-17_enddate_2017-04-31', low_memory=False, na_values='(not set)')\n",
    "df12 = pd.read_csv('google-data/google_dimensions_second_run_9-20-17_enddate_2017-07-31', low_memory=False, na_values='(not set)')\n",
    "df13 = pd.read_csv('google-data/google_dimensions_second_run_9-20-17_enddate_2017-08-31', low_memory=False, na_values='(not set)')"
   ]
  },
  {
   "cell_type": "code",
   "execution_count": 7,
   "metadata": {
    "collapsed": true
   },
   "outputs": [],
   "source": [
    "# Concatenating files\n",
    "dfb = pd.concat([df1, df2, df3, df4, df5, df6, df7, df8, df9, df10, df11, df12, df13], axis=0)"
   ]
  },
  {
   "cell_type": "code",
   "execution_count": 13,
   "metadata": {
    "collapsed": true
   },
   "outputs": [],
   "source": [
    "# Consolidating data to one row per transaction id using lists\n",
    "df = df.groupby('ga:transactionId').first().reset_index()\n",
    "dfb = dfb.groupby('ga:transactionId').first().reset_index()"
   ]
  },
  {
   "cell_type": "code",
   "execution_count": 16,
   "metadata": {
    "collapsed": true
   },
   "outputs": [],
   "source": [
    "# Merging all google datasets\n",
    "google_df = pd.merge(df, dfb, how='outer', on='ga:transactionId')"
   ]
  },
  {
   "cell_type": "code",
   "execution_count": 17,
   "metadata": {
    "collapsed": true
   },
   "outputs": [],
   "source": [
    "# Pickling dataset and reloading\n",
    "# google_df.to_pickle('google_pickled_data')\n",
    "google_df = pd.read_pickle('google_pickled_data')"
   ]
  },
  {
   "cell_type": "code",
   "execution_count": 18,
   "metadata": {
    "collapsed": true
   },
   "outputs": [],
   "source": [
    "# Reading in EDD_df\n",
    "EDD_df = pd.read_csv('../EDD/payment-history-9-1-17.csv')"
   ]
  },
  {
   "cell_type": "code",
   "execution_count": 19,
   "metadata": {
    "collapsed": true
   },
   "outputs": [],
   "source": [
    "# Renaming columns for datasource\n",
    "EDD_df.rename(columns=lambda x: 'EDD:' + x, inplace=True)"
   ]
  },
  {
   "cell_type": "code",
   "execution_count": 22,
   "metadata": {
    "collapsed": true,
    "scrolled": true
   },
   "outputs": [],
   "source": [
    "# Merging transactions data with google data\n",
    "all_transactions_df = pd.merge(EDD_df, google_df, how='left', left_on='EDD:Payment ID', right_on='ga:transactionId')"
   ]
  },
  {
   "cell_type": "code",
   "execution_count": 24,
   "metadata": {},
   "outputs": [
    {
     "data": {
      "text/plain": [
       "0.37758880811959949"
      ]
     },
     "execution_count": 24,
     "metadata": {},
     "output_type": "execute_result"
    }
   ],
   "source": [
    "# Checking percentage of null values in google df after the join\n",
    "nulls = all_transactions_df['ga:transactionId'].isnull().sum()/float(all_transactions_df.shape[0])\n",
    "nulls"
   ]
  },
  {
   "cell_type": "code",
   "execution_count": 25,
   "metadata": {
    "collapsed": true
   },
   "outputs": [],
   "source": [
    "# Creating pickled dataset\n",
    "all_transactions_df.to_pickle('all_transactions_google_EDD')"
   ]
  },
  {
   "cell_type": "code",
   "execution_count": null,
   "metadata": {
    "collapsed": true
   },
   "outputs": [],
   "source": []
  }
 ],
 "metadata": {
  "kernelspec": {
   "display_name": "Python 2",
   "language": "python",
   "name": "python2"
  },
  "language_info": {
   "codemirror_mode": {
    "name": "ipython",
    "version": 2
   },
   "file_extension": ".py",
   "mimetype": "text/x-python",
   "name": "python",
   "nbconvert_exporter": "python",
   "pygments_lexer": "ipython2",
   "version": "2.7.13"
  }
 },
 "nbformat": 4,
 "nbformat_minor": 2
}
