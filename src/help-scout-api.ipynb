{
 "cells": [
  {
   "cell_type": "code",
   "execution_count": 2,
   "metadata": {
    "collapsed": true
   },
   "outputs": [],
   "source": [
    "import os\n",
    "from client import Client\n",
    "import pandas as pd\n",
    "import time\n",
    "import progressbar"
   ]
  },
  {
   "cell_type": "code",
   "execution_count": 3,
   "metadata": {
    "collapsed": true
   },
   "outputs": [],
   "source": [
    "# Force pandas to display all data\n",
    "pd.set_option('display.max_columns', None)\n",
    "pd.set_option('display.max_rows', None)\n",
    "pd.set_option('max_info_columns', 100000)\n",
    "pd.set_option('max_seq_items', None)"
   ]
  },
  {
   "cell_type": "code",
   "execution_count": 4,
   "metadata": {
    "collapsed": true
   },
   "outputs": [],
   "source": [
    "# Setting up HelpScout api\n",
    "client = Client()\n",
    "client.api_key = os.environ['HELPSCOUT_KEY']"
   ]
  },
  {
   "cell_type": "code",
   "execution_count": null,
   "metadata": {
    "collapsed": true
   },
   "outputs": [],
   "source": [
    "# Create empty dataframe to add customers to\n",
    "all_customer_df = pd.DataFrame()\n",
    "\n",
    "# Set index to 0 for rows in customer dataframe\n",
    "i = 1\n",
    "\n",
    "# Finding total pages for below iteration\n",
    "page_1 = client.customers(page=1)\n",
    "num_pages = page_1['pages']\n",
    "\n",
    "bar = progressbar.ProgressBar()\n",
    "# Iterate through all pages of customer data\n",
    "for n in bar(range(num_pages+1)):\n",
    "    all_customers = client.customers(page=n)\n",
    "    # Pull the desired data from the list that is returned\n",
    "    all_customers = all_customers['items']\n",
    "    # Iterate through each separate customer dictionary on a page\n",
    "    for customer in all_customers:\n",
    "        # Set index for each customer's row\n",
    "        all_temp_df = pd.DataFrame(customer, index=[i])\n",
    "        # Join new data for a single customer to overall customer df\n",
    "        all_customer_df = pd.concat([all_customer_df, all_temp_df], axis=0)\n",
    "        i += 1\n",
    "\n",
    "# Remove duplicate rows\n",
    "all_customer_df = all_customer_df.drop_duplicates()"
   ]
  },
  {
   "cell_type": "code",
   "execution_count": null,
   "metadata": {
    "collapsed": true,
    "scrolled": false
   },
   "outputs": [],
   "source": [
    "# Iterate through customer IDs and create another df from extra data from another location\n",
    "ind_cust_df = pd.DataFrame()\n",
    "\n",
    "errors = []\n",
    "row_errors = []\n",
    "\n",
    "bar = progressbar.ProgressBar()\n",
    "for cust_id in bar(all_customer_df.id):\n",
    "    try:\n",
    "        data = client.customer(cust_id)\n",
    "    except:\n",
    "        # Sleep if there are errors before retrying the API\n",
    "        time.sleep(20)\n",
    "        try:\n",
    "            data = client.customer(cust_id)\n",
    "        except:\n",
    "            errors.append(cust_id)\n",
    "            continue\n",
    "    # Pulling the useful data out of the json object\n",
    "    data = data['item']\n",
    "    # Lots of feature engineering from embedded dictionaries\n",
    "    try:\n",
    "        data['email_types'] = [item['location'] for item in data['emails']]\n",
    "        data['emails'] = [item['value'] for item in data['emails']]\n",
    "    except:\n",
    "        data['email_types'] = None\n",
    "        data['emails'] = None\n",
    "    try:\n",
    "        data['socialProfiles_links'] = [item['value'] for item in data['socialProfiles']]\n",
    "        data['socialProfiles'] = [item['type'] for item in data['socialProfiles']]\n",
    "    except:\n",
    "        data['socialProfiles_links'] = None\n",
    "        data['socialProfiles'] = None\n",
    "    try:\n",
    "        data['websites'] = [item['value'] for item in data['websites']]        \n",
    "    except:\n",
    "        data['websites'] = None\n",
    "    try:\n",
    "        data['city'] = data['address']['city']\n",
    "    except:\n",
    "        data['city'] = None\n",
    "    try:\n",
    "        data['country'] = data['address']['country']\n",
    "    except:\n",
    "        data['country'] = None\n",
    "    try:\n",
    "        data['postalCode'] = data['address']['postalCode']\n",
    "    except:\n",
    "        data['postalCode'] = None\n",
    "    try:\n",
    "        data['state'] = data['address']['state']\n",
    "    except:\n",
    "        data['state'] = None\n",
    "    try:\n",
    "        data['chats'] = [item['type'] for item in data['chats']]\n",
    "    except:\n",
    "        data['chats'] = None\n",
    "    try:\n",
    "        data['phone_types'] = [item['location'] for item in data['phones']]\n",
    "        data['phones'] = [item['value'] for item in data['phones']]\n",
    "    except:\n",
    "        data['phone_types'] = None\n",
    "        data['phones'] = None\n",
    "    del data['address']\n",
    "    try:\n",
    "        # Creating a temporary df and then adding to the overall dataframe\n",
    "        ind_temp_df = pd.DataFrame.from_dict(dict(data), orient='index').transpose()\n",
    "        ind_cust_df = pd.concat([ind_cust_df, ind_temp_df], axis=0)\n",
    "    except:\n",
    "        # Keeping track of any errors to append later\n",
    "        row_errors.append(data)\n",
    "        pass"
   ]
  },
  {
   "cell_type": "code",
   "execution_count": null,
   "metadata": {
    "collapsed": true
   },
   "outputs": [],
   "source": [
    "# Adding rows that originally caused errors\n",
    "for x in row_errors:\n",
    "    ind_temp_df = pd.DataFrame.from_dict(dict(data), orient='index')\n",
    "    ind_temp_df = ind_temp_df.transpose()\n",
    "    ind_cust_df = pd.concat([ind_cust_df, ind_temp_df], axis=0)"
   ]
  },
  {
   "cell_type": "code",
   "execution_count": null,
   "metadata": {
    "collapsed": true
   },
   "outputs": [],
   "source": [
    "# Merging individual customer data queried with overall customer data queried\n",
    "df = pd.merge(all_customer_df, ind_cust_df, how='outer', on='id')"
   ]
  },
  {
   "cell_type": "code",
   "execution_count": null,
   "metadata": {
    "collapsed": true,
    "scrolled": true
   },
   "outputs": [],
   "source": [
    "# Iterate through customer IDs and create another df from overall conversation data\n",
    "convo_df = pd.DataFrame()\n",
    "\n",
    "convo_errors = []\n",
    "convo_row_errors = []\n",
    "\n",
    "bar = progressbar.ProgressBar()\n",
    "for cust_id in bar(df['id']):\n",
    "    try:\n",
    "        # Querying for customer overall conversation data using the main mailbox number\n",
    "        convo_data = client.conversations_for_customer_by_mailbox(37582, cust_id)\n",
    "    except:\n",
    "        # Sleep if there are errors before retrying the API\n",
    "        time.sleep(20)\n",
    "        try:\n",
    "            convo_data = client.conversations_for_customer_by_mailbox(37582, cust_id)\n",
    "        except:\n",
    "            # Storing any errors to look at later\n",
    "            convo_errors.append(cust_id)\n",
    "            continue\n",
    "    # Pulling out the useful data\n",
    "    convo_data = convo_data['items']\n",
    "    for item in convo_data:\n",
    "        try:\n",
    "            # Merging the temporary information with the overall df\n",
    "            convo_temp_df = pd.DataFrame.from_dict(dict(item), orient='index').transpose()\n",
    "            convo_df = pd.concat([convo_df, convo_temp_df], axis=0)\n",
    "        except:\n",
    "            # Storing any errors to look at later\n",
    "            convo_row_errors.append(item)\n",
    "            pass"
   ]
  },
  {
   "cell_type": "code",
   "execution_count": null,
   "metadata": {
    "collapsed": true
   },
   "outputs": [],
   "source": [
    "# Iterate through customer IDs and create another df from detailed conversation text data\n",
    "ind_convo_df = pd.DataFrame()\n",
    "\n",
    "ind_convo_errors = []\n",
    "ind_convo_row_errors = []\n",
    "\n",
    "bar = progressbar.ProgressBar()\n",
    "for convo_id in bar(convo_df['id']):\n",
    "    try:\n",
    "        ind_convo_data = client.conversation(convo_id)\n",
    "    except:\n",
    "        # Sleeping if there are any errors before requerying the api\n",
    "        time.sleep(20)\n",
    "        try:\n",
    "            ind_convo_data = client.conversation(convo_id)\n",
    "        except:\n",
    "            # Storing any erorrs to look at later\n",
    "            ind_convo_errors.append(convo_id)\n",
    "            continue\n",
    "    # Pulling out the useful information\n",
    "    ind_convo_data = ind_convo_data['item']\n",
    "    try:\n",
    "        # Merging the temporary information with the overall df\n",
    "        ind_convo_temp_df = pd.DataFrame.from_dict(dict(ind_convo_data), orient='index').transpose()\n",
    "        ind_convo_df = pd.concat([ind_convo_df, ind_convo_temp_df], axis=0)\n",
    "    except:\n",
    "        # Storing any errors to look at later\n",
    "        ind_convo_row_errors.append(ind_convo_data)\n",
    "        pass"
   ]
  },
  {
   "cell_type": "code",
   "execution_count": null,
   "metadata": {
    "collapsed": true
   },
   "outputs": [],
   "source": [
    "# Merge both conversation dataframes\n",
    "convo_df_2 = pd.merge(convo_df, ind_convo_df, how='outer', on='id')"
   ]
  },
  {
   "cell_type": "code",
   "execution_count": null,
   "metadata": {
    "collapsed": true
   },
   "outputs": [],
   "source": [
    "# Rename id column to indicate it is the conversation id (not the customer id)\n",
    "convo_df_2.rename(columns={'id': 'convo_id'}, inplace=True)"
   ]
  },
  {
   "cell_type": "code",
   "execution_count": null,
   "metadata": {
    "collapsed": true
   },
   "outputs": [],
   "source": [
    "# Setting up customer id column\n",
    "convo_df_2['id'] = [customer['id'] for customer in convo_df_2.customer_x]"
   ]
  },
  {
   "cell_type": "code",
   "execution_count": 96,
   "metadata": {},
   "outputs": [],
   "source": [
    "# Removing helpscout test rows from both datasets\n",
    "df = df[df['id'] != 45630411]\n",
    "convo_df_2 = convo_df_2[convo_df_2['id'] != 45630411]"
   ]
  },
  {
   "cell_type": "code",
   "execution_count": 97,
   "metadata": {},
   "outputs": [],
   "source": [
    "# Recasting id as int before grouping\n",
    "convo_df_2['id'] = convo_df_2['id'].astype(int)\n",
    "df['id'] = df['id'].astype(int)\n",
    "# Getting number of row per id (i.e., number of tickets)\n",
    "num_tickets = pd.DataFrame(convo_df_2.groupby('id').size())\n",
    "num_tickets.rename(index = str, columns = {0: 'number_support_tickets'}, inplace=True)\n",
    "num_tickets['id'] = num_tickets.index.astype(int)\n",
    "# Creating number of support tickets variable\n",
    "df = df.merge(num_tickets, how='outer', on='id')"
   ]
  },
  {
   "cell_type": "code",
   "execution_count": 98,
   "metadata": {
    "collapsed": true
   },
   "outputs": [],
   "source": [
    "# Pickling df with all customer data (leaving support ticket data for later)\n",
    "df.to_pickle('helpscout_simplified')"
   ]
  },
  {
   "cell_type": "markdown",
   "metadata": {},
   "source": [
    "## Working with All Support Tickets - Finish as Time Permits"
   ]
  },
  {
   "cell_type": "code",
   "execution_count": 90,
   "metadata": {},
   "outputs": [
    {
     "name": "stderr",
     "output_type": "stream",
     "text": [
      "100% (48 of 48) |##########################| Elapsed Time: 0:00:20 Time: 0:00:20\n"
     ]
    }
   ],
   "source": [
    "convo_df_cleaned = pd.DataFrame()\n",
    "bar = progressbar.ProgressBar()\n",
    "for column in bar(convo_df_2.columns):\n",
    "    try:\n",
    "        temp_df = convo_df_2.groupby('id', as_index=True)[column].agg(lambda x: list(x))\n",
    "        convo_df_cleaned = pd.concat([convo_df_cleaned, temp_df], axis=1)\n",
    "    except:\n",
    "        continue"
   ]
  },
  {
   "cell_type": "code",
   "execution_count": 92,
   "metadata": {},
   "outputs": [],
   "source": [
    "convo_df_cleaned.columns = convo_df_2.columns"
   ]
  },
  {
   "cell_type": "code",
   "execution_count": null,
   "metadata": {},
   "outputs": [],
   "source": [
    "convo_df_cleaned.drop('id', inplace=True, axis=1)\n",
    "convo_df_cleaned.reset_index()"
   ]
  },
  {
   "cell_type": "code",
   "execution_count": null,
   "metadata": {
    "collapsed": true
   },
   "outputs": [],
   "source": [
    "convo_df_cleaned.head()"
   ]
  },
  {
   "cell_type": "code",
   "execution_count": null,
   "metadata": {
    "scrolled": false
   },
   "outputs": [],
   "source": [
    "# Merging all customer data with all conversation data\n",
    "df = pd.merge(df, convo_df_2, how='outer', on='id')"
   ]
  },
  {
   "cell_type": "code",
   "execution_count": null,
   "metadata": {
    "collapsed": true
   },
   "outputs": [],
   "source": [
    "# Exporting data to pickle\n",
    "df.to_pickle('final_helpscout_pickle')"
   ]
  },
  {
   "cell_type": "code",
   "execution_count": null,
   "metadata": {
    "collapsed": true
   },
   "outputs": [],
   "source": []
  }
 ],
 "metadata": {
  "kernelspec": {
   "display_name": "Python 2",
   "language": "python",
   "name": "python2"
  },
  "language_info": {
   "codemirror_mode": {
    "name": "ipython",
    "version": 2
   },
   "file_extension": ".py",
   "mimetype": "text/x-python",
   "name": "python",
   "nbconvert_exporter": "python",
   "pygments_lexer": "ipython2",
   "version": "2.7.13"
  }
 },
 "nbformat": 4,
 "nbformat_minor": 2
}
